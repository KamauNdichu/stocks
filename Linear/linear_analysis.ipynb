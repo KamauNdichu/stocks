{
 "cells": [
  {
   "cell_type": "code",
   "execution_count": 9,
   "id": "07ed381c",
   "metadata": {},
   "outputs": [],
   "source": [
    "import pandas as pd\n",
    "import datetime\n",
    "from datetime import date\n",
    "import pandas_datareader import data\n",
    "from pandas import Series"
   ]
  },
  {
   "cell_type": "code",
   "execution_count": 16,
   "id": "900af803",
   "metadata": {},
   "outputs": [],
   "source": [
    "tickers = ['AAPL', 'MSFT', '^GSPC']\n",
    "#data to be collected as of start and end date\n",
    "start = '2010-01-01'\n",
    "end = date.today().strftime(\"%Y-%m-%d\")\n",
    "\n",
    "\n",
    "panel_data = data.DataReader('INPX', 'google', start_date, end_date)\n",
    "\n"
   ]
  },
  {
   "cell_type": "code",
   "execution_count": null,
   "id": "3d27987f",
   "metadata": {},
   "outputs": [],
   "source": []
  },
  {
   "cell_type": "code",
   "execution_count": null,
   "id": "eddf0ee5",
   "metadata": {},
   "outputs": [],
   "source": []
  }
 ],
 "metadata": {
  "kernelspec": {
   "display_name": "Python 3",
   "language": "python",
   "name": "python3"
  },
  "language_info": {
   "codemirror_mode": {
    "name": "ipython",
    "version": 3
   },
   "file_extension": ".py",
   "mimetype": "text/x-python",
   "name": "python",
   "nbconvert_exporter": "python",
   "pygments_lexer": "ipython3",
   "version": "3.8.10"
  }
 },
 "nbformat": 4,
 "nbformat_minor": 5
}
