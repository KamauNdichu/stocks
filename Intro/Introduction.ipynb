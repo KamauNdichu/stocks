{
 "cells": [
  {
   "cell_type": "code",
   "execution_count": 1,
   "id": "0d3d9b8e",
   "metadata": {},
   "outputs": [],
   "source": [
    "#introduction to tensorflow\n",
    "#tensor is basically a data point that has several dimensions\n",
    "#each tensor rep a partial computation that will result to a value\n",
    "#tensors have a datatype and shape\n",
    "#shape defines the dimensions of the tensor object\n",
    "#data types include commonly int32, string and float32"
   ]
  },
  {
   "cell_type": "code",
   "execution_count": 2,
   "id": "75b48374",
   "metadata": {},
   "outputs": [],
   "source": [
    "import tensorflow as tf"
   ]
  },
  {
   "cell_type": "code",
   "execution_count": 3,
   "id": "b8940402",
   "metadata": {},
   "outputs": [
    {
     "name": "stdout",
     "output_type": "stream",
     "text": [
      "<tf.Variable 'Variable:0' shape=() dtype=string, numpy=b'This is a string'>\n",
      "\n",
      "\n",
      "\n",
      "\n",
      "<tf.Variable 'Variable:0' shape=() dtype=int32, numpy=34564>\n",
      "\n",
      "\n",
      "\n",
      "\n",
      "<tf.Variable 'Variable:0' shape=() dtype=float32, numpy=34.7878>\n"
     ]
    }
   ],
   "source": [
    "string = tf.Variable(\"This is a string\", tf.string)\n",
    "print(string)\n",
    "\n",
    "print('\\n\\n\\n')\n",
    "number = tf.Variable(34564, tf.int16)\n",
    "print(number)\n",
    "print('\\n\\n\\n')\n",
    "\n",
    "decimal = tf.Variable(34.7878, tf.float64)\n",
    "print(decimal)"
   ]
  },
  {
   "cell_type": "code",
   "execution_count": 4,
   "id": "4f09083f",
   "metadata": {},
   "outputs": [
    {
     "name": "stdout",
     "output_type": "stream",
     "text": [
      "<tf.Variable 'Variable:0' shape=(1,) dtype=string, numpy=array([b'test'], dtype=object)>\n",
      "\n",
      "\n",
      "\n",
      "\n",
      "<tf.Variable 'Variable:0' shape=(2, 2) dtype=string, numpy=\n",
      "array([[b'test', b'car'],\n",
      "       [b'yes', b'no']], dtype=object)>\n"
     ]
    }
   ],
   "source": [
    "#rank/degree of a tensor shows the number of dimensions the tensor has \n",
    "rank1_tensor = tf.Variable(['test'], tf.string)\n",
    "rank2_tensor = tf.Variable([['test', 'car'], ['yes', 'no']], tf.string)\n",
    "print(rank1_tensor)\n",
    "print('\\n\\n\\n')\n",
    "\n",
    "print(rank2_tensor)"
   ]
  },
  {
   "cell_type": "code",
   "execution_count": null,
   "id": "575162fd",
   "metadata": {},
   "outputs": [],
   "source": []
  }
 ],
 "metadata": {
  "kernelspec": {
   "display_name": "Python 3",
   "language": "python",
   "name": "python3"
  },
  "language_info": {
   "codemirror_mode": {
    "name": "ipython",
    "version": 3
   },
   "file_extension": ".py",
   "mimetype": "text/x-python",
   "name": "python",
   "nbconvert_exporter": "python",
   "pygments_lexer": "ipython3",
   "version": "3.8.10"
  }
 },
 "nbformat": 4,
 "nbformat_minor": 5
}
